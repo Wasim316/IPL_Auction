{
 "cells": [
  {
   "cell_type": "code",
   "execution_count": 1,
   "id": "159c19be",
   "metadata": {},
   "outputs": [
    {
     "name": "stdout",
     "output_type": "stream",
     "text": [
      "Requirement already satisfied: pyspark in c:\\users\\hello\\anaconda3\\lib\\site-packages (3.5.0)\n",
      "Requirement already satisfied: py4j==0.10.9.7 in c:\\users\\hello\\anaconda3\\lib\\site-packages (from pyspark) (0.10.9.7)\n"
     ]
    }
   ],
   "source": [
    "!pip install pyspark"
   ]
  },
  {
   "cell_type": "code",
   "execution_count": 2,
   "id": "cb38090f",
   "metadata": {},
   "outputs": [],
   "source": [
    "import pandas as pd\n",
    "from pyspark.sql import SparkSession"
   ]
  },
  {
   "cell_type": "code",
   "execution_count": 4,
   "id": "53136925",
   "metadata": {},
   "outputs": [],
   "source": [
    "spark = SparkSession.builder.getOrCreate()"
   ]
  },
  {
   "cell_type": "code",
   "execution_count": 8,
   "id": "e402492a",
   "metadata": {},
   "outputs": [
    {
     "name": "stdout",
     "output_type": "stream",
     "text": [
      "+---+---------------+----------+-----------+---------------+---------------+----------+--------------+\n",
      "|_c0|         Player|Base Price|       TYPE|COST IN ₹ (CR.)|Cost IN $ (000)|2021 Squad|          Team|\n",
      "+---+---------------+----------+-----------+---------------+---------------+----------+--------------+\n",
      "|  0|    Rashid Khan|Draft Pick|     BOWLER|           15.0|         1950.0|       SRH|Gujarat Titans|\n",
      "|  1|  Hardik Pandya|Draft Pick|ALL-ROUNDER|           15.0|         1950.0|        MI|Gujarat Titans|\n",
      "|  2|Lockie Ferguson|      2 Cr|     BOWLER|           10.0|         1300.0|       KKR|Gujarat Titans|\n",
      "|  3|  Rahul Tewatia|   40 Lakh|ALL-ROUNDER|            9.0|         1170.0|        RR|Gujarat Titans|\n",
      "|  4|   Shubman Gill|Draft Pick|     BATTER|            8.0|         1040.0|       KKR|Gujarat Titans|\n",
      "+---+---------------+----------+-----------+---------------+---------------+----------+--------------+\n",
      "only showing top 5 rows\n",
      "\n"
     ]
    }
   ],
   "source": [
    "ipl_df = spark.read.option('header',True).option('inferSchema',True).csv('ipl_2022_dataset.csv')\n",
    "ipl_df.show(5)"
   ]
  },
  {
   "cell_type": "code",
   "execution_count": 9,
   "id": "328dbc03",
   "metadata": {},
   "outputs": [
    {
     "name": "stdout",
     "output_type": "stream",
     "text": [
      "root\n",
      " |-- _c0: integer (nullable = true)\n",
      " |-- Player: string (nullable = true)\n",
      " |-- Base Price: string (nullable = true)\n",
      " |-- TYPE: string (nullable = true)\n",
      " |-- COST IN ₹ (CR.): double (nullable = true)\n",
      " |-- Cost IN $ (000): double (nullable = true)\n",
      " |-- 2021 Squad: string (nullable = true)\n",
      " |-- Team: string (nullable = true)\n",
      "\n"
     ]
    }
   ],
   "source": [
    "ipl_df.printSchema()"
   ]
  },
  {
   "cell_type": "code",
   "execution_count": 11,
   "id": "3eb8dfe0",
   "metadata": {},
   "outputs": [
    {
     "name": "stdout",
     "output_type": "stream",
     "text": [
      "rows :  633\n",
      "columns :  8\n"
     ]
    }
   ],
   "source": [
    "print('rows : ',ipl_df.count())\n",
    "print('columns : ',len(ipl_df.columns))"
   ]
  },
  {
   "cell_type": "code",
   "execution_count": 13,
   "id": "84119124",
   "metadata": {},
   "outputs": [
    {
     "data": {
      "text/plain": [
       "[Row(Base Price='20 Lakh'),\n",
       " Row(Base Price='2 Cr'),\n",
       " Row(Base Price='Draft Pick'),\n",
       " Row(Base Price='40 Lakh'),\n",
       " Row(Base Price='30 Lakh'),\n",
       " Row(Base Price='1 Cr'),\n",
       " Row(Base Price='50 Lakh'),\n",
       " Row(Base Price='1.5 Cr'),\n",
       " Row(Base Price='75 Lakh'),\n",
       " Row(Base Price='Retained')]"
      ]
     },
     "execution_count": 13,
     "metadata": {},
     "output_type": "execute_result"
    }
   ],
   "source": [
    "ipl_df.select('Base Price').distinct().collect()"
   ]
  },
  {
   "cell_type": "code",
   "execution_count": 14,
   "id": "3373e6dc",
   "metadata": {
    "scrolled": true
   },
   "outputs": [
    {
     "data": {
      "text/plain": [
       "[Row(TYPE='WICKETKEEPER'),\n",
       " Row(TYPE='BOWLER'),\n",
       " Row(TYPE='ALL-ROUNDER'),\n",
       " Row(TYPE='BATTER')]"
      ]
     },
     "execution_count": 14,
     "metadata": {},
     "output_type": "execute_result"
    }
   ],
   "source": [
    "ipl_df.select('TYPE').distinct().collect()"
   ]
  },
  {
   "cell_type": "code",
   "execution_count": 16,
   "id": "eb96527c",
   "metadata": {},
   "outputs": [
    {
     "data": {
      "text/plain": [
       "['_c0',\n",
       " 'Player',\n",
       " 'Base Price',\n",
       " 'TYPE',\n",
       " 'COST IN ₹ (CR.)',\n",
       " 'Cost IN $ (000)',\n",
       " '2021 Squad',\n",
       " 'Team']"
      ]
     },
     "execution_count": 16,
     "metadata": {},
     "output_type": "execute_result"
    }
   ],
   "source": [
    "ipl_df.columns"
   ]
  },
  {
   "cell_type": "code",
   "execution_count": 25,
   "id": "510f349e",
   "metadata": {},
   "outputs": [
    {
     "name": "stdout",
     "output_type": "stream",
     "text": [
      "+---+---------------+----------+-----------+--------+--------+---------+--------------+\n",
      "|_c0|         player|base_price|       type|cost_inr|cost_usd|2021_team|     2022_team|\n",
      "+---+---------------+----------+-----------+--------+--------+---------+--------------+\n",
      "|  0|    Rashid Khan|Draft Pick|     BOWLER|    15.0|  1950.0|      SRH|Gujarat Titans|\n",
      "|  1|  Hardik Pandya|Draft Pick|ALL-ROUNDER|    15.0|  1950.0|       MI|Gujarat Titans|\n",
      "|  2|Lockie Ferguson|      2 Cr|     BOWLER|    10.0|  1300.0|      KKR|Gujarat Titans|\n",
      "|  3|  Rahul Tewatia|   40 Lakh|ALL-ROUNDER|     9.0|  1170.0|       RR|Gujarat Titans|\n",
      "|  4|   Shubman Gill|Draft Pick|     BATTER|     8.0|  1040.0|      KKR|Gujarat Titans|\n",
      "+---+---------------+----------+-----------+--------+--------+---------+--------------+\n",
      "only showing top 5 rows\n",
      "\n"
     ]
    }
   ],
   "source": [
    "ipl_df1 = ipl_df.withColumnRenamed('Player','player')\\\n",
    "          .withColumnRenamed('Base Price','base_price')\\\n",
    "          .withColumnRenamed('TYPE','type')\\\n",
    "          .withColumnRenamed('COST IN ₹ (CR.)','cost_inr')\\\n",
    "          .withColumnRenamed('Cost IN $ (000)','cost_usd')\\\n",
    "          .withColumnRenamed('Player','player')\\\n",
    "          .withColumnRenamed('2021 Squad','2021_team')\\\n",
    "          .withColumnRenamed('Team','2022_team')\n",
    "ipl_df1.show(5)"
   ]
  },
  {
   "cell_type": "code",
   "execution_count": 26,
   "id": "e4c52ed0",
   "metadata": {},
   "outputs": [
    {
     "name": "stdout",
     "output_type": "stream",
     "text": [
      "+---+---------------+----------+-----------+--------+---------+--------------+\n",
      "|_c0|         player|base_price|       type|cost_inr|2021_team|     2022_team|\n",
      "+---+---------------+----------+-----------+--------+---------+--------------+\n",
      "|  0|    Rashid Khan|Draft Pick|     BOWLER|    15.0|      SRH|Gujarat Titans|\n",
      "|  1|  Hardik Pandya|Draft Pick|ALL-ROUNDER|    15.0|       MI|Gujarat Titans|\n",
      "|  2|Lockie Ferguson|      2 Cr|     BOWLER|    10.0|      KKR|Gujarat Titans|\n",
      "|  3|  Rahul Tewatia|   40 Lakh|ALL-ROUNDER|     9.0|       RR|Gujarat Titans|\n",
      "|  4|   Shubman Gill|Draft Pick|     BATTER|     8.0|      KKR|Gujarat Titans|\n",
      "+---+---------------+----------+-----------+--------+---------+--------------+\n",
      "only showing top 5 rows\n",
      "\n"
     ]
    }
   ],
   "source": [
    "ipl_df2 = ipl_df1.drop('cost_usd')\n",
    "ipl_df2.show(5)"
   ]
  },
  {
   "cell_type": "markdown",
   "id": "da70b99b",
   "metadata": {},
   "source": [
    "## Name top 3 batsman who got paid the most?"
   ]
  },
  {
   "cell_type": "code",
   "execution_count": 29,
   "id": "c77a1036",
   "metadata": {},
   "outputs": [
    {
     "name": "stdout",
     "output_type": "stream",
     "text": [
      "+---------------+--------+\n",
      "|         player|cost_inr|\n",
      "+---------------+--------+\n",
      "|   Rohit Sharma|    16.0|\n",
      "|    Virat Kohli|    15.0|\n",
      "|Kane Williamson|    14.0|\n",
      "+---------------+--------+\n",
      "only showing top 3 rows\n",
      "\n"
     ]
    }
   ],
   "source": [
    "ipl_df2.select('player','cost_inr').where(ipl_df2.type == 'BATTER').orderBy('cost_inr',ascending=False).show(3)"
   ]
  },
  {
   "cell_type": "markdown",
   "id": "3aee2464",
   "metadata": {},
   "source": [
    "## Name top 5 bowler who got paid the most?"
   ]
  },
  {
   "cell_type": "code",
   "execution_count": 30,
   "id": "63d5b672",
   "metadata": {},
   "outputs": [
    {
     "name": "stdout",
     "output_type": "stream",
     "text": [
      "+---------------+--------+\n",
      "|         player|cost_inr|\n",
      "+---------------+--------+\n",
      "|    Rashid Khan|    15.0|\n",
      "|  Deepak Chahar|    14.0|\n",
      "| Jasprit Bumrah|    12.0|\n",
      "| Shardul Thakur|   10.75|\n",
      "|Lockie Ferguson|    10.0|\n",
      "+---------------+--------+\n",
      "only showing top 5 rows\n",
      "\n"
     ]
    }
   ],
   "source": [
    "ipl_df2.select('player','cost_inr').where(ipl_df2.type == 'BOWLER').orderBy('cost_inr',ascending=False).show(5)"
   ]
  },
  {
   "cell_type": "markdown",
   "id": "31d864fc",
   "metadata": {},
   "source": [
    "## Name top 5 All-rounder who get paid the most?"
   ]
  },
  {
   "cell_type": "code",
   "execution_count": 38,
   "id": "c53463d2",
   "metadata": {},
   "outputs": [
    {
     "name": "stdout",
     "output_type": "stream",
     "text": [
      "+----------------+--------+\n",
      "|          player|cost_inr|\n",
      "+----------------+--------+\n",
      "| Ravindra Jadeja|    16.0|\n",
      "|   Hardik Pandya|    15.0|\n",
      "|   Andre Russell|    12.0|\n",
      "|Liam Livingstone|    11.5|\n",
      "|   Glenn Maxwell|    11.0|\n",
      "+----------------+--------+\n",
      "only showing top 5 rows\n",
      "\n"
     ]
    }
   ],
   "source": [
    "ipl_df2.select('player','cost_inr').where(ipl_df2.type == 'ALL-ROUNDER').orderBy('cost_inr', ascending=False).show(5)"
   ]
  },
  {
   "cell_type": "markdown",
   "id": "0e4eb052",
   "metadata": {},
   "source": [
    "## Name 5 lowest paid wicket-keeper"
   ]
  },
  {
   "cell_type": "code",
   "execution_count": 42,
   "id": "ff348e39",
   "metadata": {},
   "outputs": [
    {
     "name": "stdout",
     "output_type": "stream",
     "text": [
      "+---------------+--------+\n",
      "|         player|cost_inr|\n",
      "+---------------+--------+\n",
      "|  Jitesh Sharma|     0.2|\n",
      "|    Aryan Juyal|     0.2|\n",
      "|  N. Jagadeesan|     0.2|\n",
      "|Luvnith Sisodia|     0.2|\n",
      "| Baba Indrajith|     0.2|\n",
      "+---------------+--------+\n",
      "only showing top 5 rows\n",
      "\n"
     ]
    }
   ],
   "source": [
    "ipl_df2.select('player','cost_inr').where((ipl_df2.type == 'WICKETKEEPER') & (ipl_df2.cost_inr.isNotNull())).orderBy('cost_inr',ascending = True).show(5)"
   ]
  },
  {
   "cell_type": "markdown",
   "id": "19fa1f18",
   "metadata": {},
   "source": [
    "## What is the average pay for Batsman, Bowler, All-rounder, Wicket-keeper"
   ]
  },
  {
   "cell_type": "code",
   "execution_count": 44,
   "id": "36f0b767",
   "metadata": {},
   "outputs": [
    {
     "name": "stdout",
     "output_type": "stream",
     "text": [
      "+------------+------------------+\n",
      "|        type|     avg(cost_inr)|\n",
      "+------------+------------------+\n",
      "|WICKETKEEPER| 5.087037037037038|\n",
      "|      BOWLER| 3.069480519480519|\n",
      "| ALL-ROUNDER|3.6062499999999975|\n",
      "|      BATTER| 4.107777777777778|\n",
      "+------------+------------------+\n",
      "\n"
     ]
    }
   ],
   "source": [
    "ipl_df2.groupBy('type').avg('cost_inr').show()"
   ]
  },
  {
   "cell_type": "markdown",
   "id": "c6aeb1a7",
   "metadata": {},
   "source": [
    "## List of retained players with team name and salary?"
   ]
  },
  {
   "cell_type": "code",
   "execution_count": 48,
   "id": "411820e1",
   "metadata": {},
   "outputs": [
    {
     "name": "stdout",
     "output_type": "stream",
     "text": [
      "+---------------+---------+--------+\n",
      "|         player|2021_team|cost_inr|\n",
      "+---------------+---------+--------+\n",
      "|   Rohit Sharma|       MI|    16.0|\n",
      "|Ravindra Jadeja|      CSK|    16.0|\n",
      "|   Rishabh Pant|       DC|    16.0|\n",
      "|    Virat Kohli|      RCB|    15.0|\n",
      "|   Sanju Samson|       RR|    14.0|\n",
      "+---------------+---------+--------+\n",
      "only showing top 5 rows\n",
      "\n"
     ]
    }
   ],
   "source": [
    "ipl_df2.select('player','2021_team','cost_inr').where(ipl_df2.base_price == 'Retained').orderBy('cost_inr', ascending=False).show(5)"
   ]
  },
  {
   "cell_type": "code",
   "execution_count": null,
   "id": "e5284bf7",
   "metadata": {},
   "outputs": [],
   "source": []
  }
 ],
 "metadata": {
  "kernelspec": {
   "display_name": "Python 3 (ipykernel)",
   "language": "python",
   "name": "python3"
  },
  "language_info": {
   "codemirror_mode": {
    "name": "ipython",
    "version": 3
   },
   "file_extension": ".py",
   "mimetype": "text/x-python",
   "name": "python",
   "nbconvert_exporter": "python",
   "pygments_lexer": "ipython3",
   "version": "3.11.5"
  }
 },
 "nbformat": 4,
 "nbformat_minor": 5
}
